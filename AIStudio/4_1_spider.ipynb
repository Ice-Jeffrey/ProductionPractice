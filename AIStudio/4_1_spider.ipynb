{
 "cells": [
  {
   "cell_type": "code",
   "execution_count": 1,
   "metadata": {
    "collapsed": false
   },
   "outputs": [],
   "source": [
    "# 查看当前挂载的数据集目录, 该目录下的变更重启环境后会自动还原\n",
    "# View dataset directory. This directory will be recovered automatically after resetting environment. \n",
    "!ls /home/aistudio/data"
   ]
  },
  {
   "cell_type": "code",
   "execution_count": 2,
   "metadata": {
    "collapsed": false
   },
   "outputs": [],
   "source": [
    "# 查看工作区文件, 该目录下的变更将会持久保存. 请及时清理不必要的文件, 避免加载过慢.\n",
    "# View personal work directory. All changes under this directory will be kept even after reset. Please clean unnecessary files in time to speed up environment loading.\n",
    "!ls /home/aistudio/work"
   ]
  },
  {
   "cell_type": "code",
   "execution_count": 3,
   "metadata": {
    "collapsed": false
   },
   "outputs": [
    {
     "name": "stdout",
     "output_type": "stream",
     "text": [
      "mkdir: cannot create directory ‘/home/aistudio/external-libraries’: File exists\n",
      "Looking in indexes: https://pypi.mirrors.ustc.edu.cn/simple/\n",
      "Collecting beautifulsoup4\n",
      "\u001b[?25l  Downloading https://mirrors.tuna.tsinghua.edu.cn/pypi/web/packages/66/25/ff030e2437265616a1e9b25ccc864e0371a0bc3adb7c5a404fd661c6f4f6/beautifulsoup4-4.9.1-py3-none-any.whl (115kB)\n",
      "\u001b[K     |████████████████████████████████| 122kB 9.8MB/s eta 0:00:01\n",
      "\u001b[?25hCollecting soupsieve>1.2 (from beautifulsoup4)\n",
      "  Downloading https://mirrors.tuna.tsinghua.edu.cn/pypi/web/packages/6f/8f/457f4a5390eeae1cc3aeab89deb7724c965be841ffca6cfca9197482e470/soupsieve-2.0.1-py3-none-any.whl\n",
      "Installing collected packages: soupsieve, beautifulsoup4\n",
      "Successfully installed beautifulsoup4-4.9.1 soupsieve-2.0.1\n",
      "\u001b[33mWARNING: Target directory /home/aistudio/external-libraries/soupsieve-2.0.1.dist-info already exists. Specify --upgrade to force replacement.\u001b[0m\n",
      "\u001b[33mWARNING: Target directory /home/aistudio/external-libraries/beautifulsoup4-4.9.1.dist-info already exists. Specify --upgrade to force replacement.\u001b[0m\n",
      "\u001b[33mWARNING: Target directory /home/aistudio/external-libraries/bs4 already exists. Specify --upgrade to force replacement.\u001b[0m\n",
      "\u001b[33mWARNING: Target directory /home/aistudio/external-libraries/soupsieve already exists. Specify --upgrade to force replacement.\u001b[0m\n"
     ]
    }
   ],
   "source": [
    "# 如果需要进行持久化安装, 需要使用持久化路径, 如下方代码示例:\n",
    "# If a persistence installation is required, you need to use the persistence path as the following:\n",
    "!mkdir /home/aistudio/external-libraries\n",
    "!pip install beautifulsoup4 -t /home/aistudio/external-libraries"
   ]
  },
  {
   "cell_type": "code",
   "execution_count": 4,
   "metadata": {
    "collapsed": false
   },
   "outputs": [],
   "source": [
    "# 同时添加如下代码, 这样每次环境(kernel)启动的时候只要运行下方代码即可:\r\n",
    "# Also add the following code, so that every time the environment (kernel) starts, just run the following code:\r\n",
    "import sys\r\n",
    "sys.path.append('/home/aistudio/external-libraries')"
   ]
  },
  {
   "cell_type": "markdown",
   "metadata": {
    "collapsed": false
   },
   "source": [
    "* [https://codeforces.com/](https://codeforces.com/)是俄罗斯人创立的知名算法竞赛网站，大量全球的编程爱好者经常在此通常竞技。北京化工大学的acm队员们也在该平台参加了大量的比赛。\n",
    "* [https://codeforces.com/apiHelp](https://codeforces.com/apiHelp)是该平台提供的数据接口，可以很方便的爬取自己想要的数据。\n",
    "* 北京化工大学ACM集训队开发的队员训练数据统计网站[http://www.acmer.site:81/](http://www.acmer.site:81/)就用到了这个数据接口："
   ]
  },
  {
   "cell_type": "markdown",
   "metadata": {
    "collapsed": false
   },
   "source": [
    "### cfapi网站打开截图\n",
    "![](https://ai-studio-static-online.cdn.bcebos.com/c60b855feca34413895b66f9f106539f67f5929f98584cd7a784ea1246edd7b4)\n",
    "### [cfapi-data](https://codeforces.com/api/user.rating?handle=bhyyb)网站打开截图\n",
    "![](https://ai-studio-static-online.cdn.bcebos.com/d51297f9bcae40cfa58ba166f3f2c09d7fcc61c91ad945e9b8b6adddeb108012)\n"
   ]
  },
  {
   "cell_type": "code",
   "execution_count": 7,
   "metadata": {
    "collapsed": false
   },
   "outputs": [
    {
     "name": "stdout",
     "output_type": "stream",
     "text": [
      "[{'date': 1545150900, 'contest': 'Codeforces Round #527 (Div. 3)', 'rank': 4814, 'newRating': 1379, 'diff': 1379}]\n"
     ]
    }
   ],
   "source": [
    "from bs4 import BeautifulSoup # 需要用到beautifulsoup对网站进行解析\n",
    "import requests\n",
    "import json, time\n",
    "\n",
    "# 获取html网页中信息的函数\n",
    "def getUrlText(url):\n",
    "    while True:\n",
    "        try:\n",
    "            html = requests.get(url)\n",
    "            html = html.text\n",
    "            break\n",
    "        except requests.exceptions.ConnectionError:\n",
    "            print('ConnectionError -- please wait 3 seconds')\n",
    "            time.sleep(3)\n",
    "        except requests.exceptions.ChunkedEncodingError:\n",
    "            print('ChunkedEncodingError -- please wait 3 seconds')\n",
    "            time.sleep(3)    \n",
    "        except:\n",
    "            print('Unfortunitely -- An Unknow Error Happened, Please wait 3 seconds')\n",
    "            time.sleep(3)\n",
    "    return html\n",
    "\n",
    "def getCFUserData(cfID):\n",
    "    # 在浏览器打开网址（https://codeforces.com/api/user.rating?handle=Ice-Jeffrey）然后编写代码进行处理\n",
    "    url = \"https://codeforces.com/api/user.rating?handle=\" + cfID # 对url进行拼接\n",
    "    html = getUrlText(url)    # 调用自定义函数获取网页中的文本\n",
    "    js = json.loads(html)    # 将html用json格式打开\n",
    "    \n",
    "    # print(js)\n",
    "    \n",
    "    # 判断当前id是否有参加过比赛，若未参加比赛，直接返回空列表\n",
    "    if 'result' not in js.keys():\n",
    "        return []\n",
    "\n",
    "    # 参加了比赛，取出比赛结果\n",
    "    results = json.loads(html)['result']\n",
    "    \n",
    "    # 生成比赛结果\n",
    "    datalist = []\n",
    "    for d in results:\n",
    "        date = d[\"ratingUpdateTimeSeconds\"]\n",
    "        contest = d[\"contestName\"]\n",
    "        rank = d[\"rank\"]\n",
    "        newRating = d[\"newRating\"]\n",
    "        diff = int(newRating) - int(d[\"oldRating\"]) # 自定义字段代表通过比赛增加的分值\n",
    "        datalist.append({\n",
    "            'date': date,\n",
    "            'contest': contest, \n",
    "            'rank': rank, \n",
    "            'newRating': newRating, \n",
    "            'diff':diff\n",
    "        })\n",
    "    # print(datalist['result'])\n",
    "    return datalist\n",
    "\n",
    "if __name__ == \"__main__\":\n",
    "    cfID = \"Ice-Jeffrey\"  # 设置为我自己的codeforcesID\n",
    "    datalist = getCFUserData(cfID)\n",
    "    print(datalist)"
   ]
  },
  {
   "cell_type": "markdown",
   "metadata": {
    "collapsed": false
   },
   "source": [
    "请点击[此处](https://ai.baidu.com/docs#/AIStudio_Project_Notebook/a38e5576)查看本环境基本用法.  <br>\n",
    "Please click [here ](https://ai.baidu.com/docs#/AIStudio_Project_Notebook/a38e5576) for more detailed instructions. "
   ]
  }
 ],
 "metadata": {
  "kernelspec": {
   "display_name": "PaddlePaddle 1.8.0 (Python 3.5)",
   "language": "python",
   "name": "py35-paddle1.2.0"
  },
  "language_info": {
   "codemirror_mode": {
    "name": "ipython",
    "version": 3
   },
   "file_extension": ".py",
   "mimetype": "text/x-python",
   "name": "python",
   "nbconvert_exporter": "python",
   "pygments_lexer": "ipython3",
   "version": "3.7.4"
  }
 },
 "nbformat": 4,
 "nbformat_minor": 1
}
